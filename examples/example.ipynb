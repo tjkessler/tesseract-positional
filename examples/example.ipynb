{
 "cells": [
  {
   "cell_type": "code",
   "execution_count": 1,
   "metadata": {},
   "outputs": [
    {
     "name": "stdout",
     "output_type": "stream",
     "text": [
      "\n",
      " \n",
      "\n",
      "\n",
      "\n",
      "\n",
      "\n",
      "\n",
      "\n",
      "\n",
      "               Lorem                Ipsum\n",
      "\n",
      "\n",
      "\n",
      "\n",
      "\n",
      "          \"Neque  porro  quisquam   est qui dolorem   jpsum  quia dolor  sit amet,  consectetur,    adipisci  velit...”\n",
      "         “There  is no one who loves pain itself, who seeks  ater it and wants to have it, simply  because  its pain.”\n",
      "\n",
      "\n",
      "\n",
      "         What    is Lorem     Ipsum?\n",
      "\n",
      "         Lorem  Ipsum  is simply  dummy   text of the printing  and typesetting    industry.   Lorem  Ipsum  has been\n",
      "       the industry's   standard it dummy   text ever since  the 1500s,  when  an unknown only printer five  took a galley  of\n",
      "       type and scrambled    to make  a type specimen   book.  It has survived   not     centuries,   but also\n",
      "       the leap  into electronic   typesetting,    remaining   essentially    unchanged.    It was  popularised    in the\n",
      "       1960s  with the release  of Letraset   sheets  containing   Lorem  Ipsum  passages,   and more  recently  with\n",
      "       desktop   publishing   software   like Aldus  PageMaker    including   versions   of Lorem  Ipsum.\n",
      "         Why   do  we  use   it?\n",
      "\n",
      "         It is a long established    fact that a reader  will be distracted   by the readable   content  of a page  when\n",
      "       looking  at its layout.  The point  of using  Lorem  Ipsum  is that it has a more-or-less    normal  distribution\n",
      "       of letters,  as opposed   to using  ‘Content   here,  content  here’,  making   it look like readable   English\n",
      "       Many  desktop   publishing   packages   and web page  editors  now use Lorem  Ipsum  as their default\n",
      "       model  text, and a search  for lorem  ipsum  will uncover   many  web sites still in their infancy.  Various\n",
      "       versions   have  evolved   over the years,  sometimes    by accident,   sometimes    on purpose   (injected\n",
      "       humour   and the like).\n",
      "\n",
      "\n",
      "\n",
      "\n",
      "         Where     does    it come    from?\n",
      "\n",
      "         Contrary   to popular  belief,  Lorem  Ipsum  is not simply  random   text. It has roots  in a piece  of classical\n",
      "       Latin  literature   from 45 BC, making  it over 2000  years  old. Richard   McClintock,    a Latin  professor   at\n",
      "       Hampden-Sydney      College   in Virginia,   looked  up one of the more  obscure   Latin words,  consectetur,\n",
      "       from  a Lorem  Ipsum  passage,   and going  through   the cites  of the word  in classical   literature\n",
      "       discovered    the undoubtable    source.  Lorem  Ipsum  comes  from  sections   1.10.32   and 1.10.33  of “de\n",
      "       Finibus  Bonorum   et Malorum”   (The  Extremes   of Good  and Evil) by Cicero,  written  in 45 BC. This\n",
      "       book  is a treatise   on the theory  of ethics,  very  popular   during  the Renaissance.     The first line of\n",
      "       Lorem  Ipsum,  \"Lorem  ipsum  dolor  sit amet..\",  comes  from a line in section   1.10.32\n",
      "\n",
      "         The standard   chunk  of Lorem  Ipsum  used  since  the 1500s  is reproduced    below  for those  interested\n",
      "       ‘Sections    1.10.32  and 1.10.33  from  \"de Finibus  Bonorum   et Malorum\"   by Cicero  are also reproduced\n",
      "       in their  exact  original  form,  accompanied     by English   versions   from  the 1914  translation    by H.\n",
      "       Rackham.\n",
      "\n",
      "         Where     can   | get  some?\n",
      "\n",
      "         There  are many  variations   of passages   of Lorem  Ipsum  available,   but the majority   have  suffered\n",
      "       alteration   in some  form,  by injected   humour,   or randomised    words  which  don't  look even  slightly\n",
      "       believable.    If you are going  to use a passage   of Lorem  Ipsum,  you need  to be sure there  isnt\n"
     ]
    }
   ],
   "source": [
    "from tesseract_positional import positional_ocr\n",
    "\n",
    "extracted_text = positional_ocr('lorem_ipsum.tiff')\n",
    "print(extracted_text)"
   ]
  },
  {
   "cell_type": "code",
   "execution_count": 2,
   "metadata": {},
   "outputs": [
    {
     "data": {
      "text/plain": [
       "'\\n \\n\\n\\n\\n\\n\\n\\n\\n\\n               Lorem                Ipsum\\n\\n\\n\\n\\n\\n          \"Neque  porro  quisquam   est qui dolorem   jpsum  quia dolor  sit amet,  consectetur,    adipisci  velit...”\\n         “There  is no one who loves pain itself, who seeks  ater it and wants to have it, simply  because  its pain.”\\n\\n\\n\\n         What    is Lorem     Ipsum?\\n\\n         Lorem  Ipsum  is simply  dummy   text of the printing  and typesetting    industry.   Lorem  Ipsum  has been\\n       the industry\\'s   standard it dummy   text ever since  the 1500s,  when  an unknown only printer five  took a galley  of\\n       type and scrambled    to make  a type specimen   book.  It has survived   not     centuries,   but also\\n       the leap  into electronic   typesetting,    remaining   essentially    unchanged.    It was  popularised    in the\\n       1960s  with the release  of Letraset   sheets  containing   Lorem  Ipsum  passages,   and more  recently  with\\n       desktop   publishing   software   like Aldus  PageMaker    including   versions   of Lorem  Ipsum.\\n         Why   do  we  use   it?\\n\\n         It is a long established    fact that a reader  will be distracted   by the readable   content  of a page  when\\n       looking  at its layout.  The point  of using  Lorem  Ipsum  is that it has a more-or-less    normal  distribution\\n       of letters,  as opposed   to using  ‘Content   here,  content  here’,  making   it look like readable   English\\n       Many  desktop   publishing   packages   and web page  editors  now use Lorem  Ipsum  as their default\\n       model  text, and a search  for lorem  ipsum  will uncover   many  web sites still in their infancy.  Various\\n       versions   have  evolved   over the years,  sometimes    by accident,   sometimes    on purpose   (injected\\n       humour   and the like).\\n\\n\\n\\n\\n         Where     does    it come    from?\\n\\n         Contrary   to popular  belief,  Lorem  Ipsum  is not simply  random   text. It has roots  in a piece  of classical\\n       Latin  literature   from 45 BC, making  it over 2000  years  old. Richard   McClintock,    a Latin  professor   at\\n       Hampden-Sydney      College   in Virginia,   looked  up one of the more  obscure   Latin words,  consectetur,\\n       from  a Lorem  Ipsum  passage,   and going  through   the cites  of the word  in classical   literature\\n       discovered    the undoubtable    source.  Lorem  Ipsum  comes  from  sections   1.10.32   and 1.10.33  of “de\\n       Finibus  Bonorum   et Malorum”   (The  Extremes   of Good  and Evil) by Cicero,  written  in 45 BC. This\\n       book  is a treatise   on the theory  of ethics,  very  popular   during  the Renaissance.     The first line of\\n       Lorem  Ipsum,  \"Lorem  ipsum  dolor  sit amet..\",  comes  from a line in section   1.10.32\\n\\n         The standard   chunk  of Lorem  Ipsum  used  since  the 1500s  is reproduced    below  for those  interested\\n       ‘Sections    1.10.32  and 1.10.33  from  \"de Finibus  Bonorum   et Malorum\"   by Cicero  are also reproduced\\n       in their  exact  original  form,  accompanied     by English   versions   from  the 1914  translation    by H.\\n       Rackham.\\n\\n         Where     can   | get  some?\\n\\n         There  are many  variations   of passages   of Lorem  Ipsum  available,   but the majority   have  suffered\\n       alteration   in some  form,  by injected   humour,   or randomised    words  which  don\\'t  look even  slightly\\n       believable.    If you are going  to use a passage   of Lorem  Ipsum,  you need  to be sure there  isnt'"
      ]
     },
     "execution_count": 2,
     "metadata": {},
     "output_type": "execute_result"
    }
   ],
   "source": [
    "positional_ocr('lorem_ipsum.tiff', 'lorem_ipsum_positional.txt')"
   ]
  },
  {
   "cell_type": "code",
   "execution_count": null,
   "metadata": {},
   "outputs": [],
   "source": []
  }
 ],
 "metadata": {
  "kernelspec": {
   "display_name": "tesseract",
   "language": "python",
   "name": "python3"
  },
  "language_info": {
   "codemirror_mode": {
    "name": "ipython",
    "version": 3
   },
   "file_extension": ".py",
   "mimetype": "text/x-python",
   "name": "python",
   "nbconvert_exporter": "python",
   "pygments_lexer": "ipython3",
   "version": "3.11.4"
  },
  "orig_nbformat": 4
 },
 "nbformat": 4,
 "nbformat_minor": 2
}
